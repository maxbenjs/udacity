{
 "cells": [
  {
   "cell_type": "code",
   "execution_count": 11,
   "metadata": {
    "editable": true
   },
   "outputs": [],
   "source": [
    "import os\n",
    "import configparser\n",
    "import pandas\n",
    "from pyspark.sql import SparkSession"
   ]
  },
  {
   "cell_type": "code",
   "execution_count": 12,
   "metadata": {
    "editable": true
   },
   "outputs": [],
   "source": [
    "config = configparser.ConfigParser()\n",
    "config.read('dl.cfg')\n",
    "\n",
    "os.environ['AWS_ACCESS_KEY_ID'] = config['AWS']['AWS_ACCESS_KEY_ID']\n",
    "os.environ['AWS_SECRET_ACCESS_KEY'] = config['AWS']['AWS_SECRET_ACCESS_KEY']\n",
    "    \n",
    "input_data = config['DATALAKE']['INPUT_DATA']\n",
    "output_data = config['DATALAKE']['OUTPUT_DATA']"
   ]
  },
  {
   "cell_type": "code",
   "execution_count": 13,
   "metadata": {
    "editable": true
   },
   "outputs": [],
   "source": [
    "spark = SparkSession \\\n",
    "        .builder \\\n",
    "        .config(\"spark.jars.packages\", \"org.apache.hadoop:hadoop-aws:2.7.0\") \\\n",
    "        .getOrCreate()"
   ]
  },
  {
   "cell_type": "code",
   "execution_count": 6,
   "metadata": {
    "editable": true
   },
   "outputs": [
    {
     "data": {
      "text/html": [
       "<div>\n",
       "<style scoped>\n",
       "    .dataframe tbody tr th:only-of-type {\n",
       "        vertical-align: middle;\n",
       "    }\n",
       "\n",
       "    .dataframe tbody tr th {\n",
       "        vertical-align: top;\n",
       "    }\n",
       "\n",
       "    .dataframe thead th {\n",
       "        text-align: right;\n",
       "    }\n",
       "</style>\n",
       "<table border=\"1\" class=\"dataframe\">\n",
       "  <thead>\n",
       "    <tr style=\"text-align: right;\">\n",
       "      <th></th>\n",
       "      <th>songplay_id</th>\n",
       "      <th>start_time</th>\n",
       "      <th>user_id</th>\n",
       "      <th>level</th>\n",
       "      <th>song_id</th>\n",
       "      <th>artist_id</th>\n",
       "      <th>session_id</th>\n",
       "      <th>location</th>\n",
       "      <th>user_agent</th>\n",
       "    </tr>\n",
       "  </thead>\n",
       "  <tbody>\n",
       "    <tr>\n",
       "      <th>0</th>\n",
       "      <td>369367187456</td>\n",
       "      <td>2018-11-26</td>\n",
       "      <td>49</td>\n",
       "      <td>paid</td>\n",
       "      <td>SOWVYWK12A8C14141F</td>\n",
       "      <td>ARX395D1187FB41D91</td>\n",
       "      <td>959</td>\n",
       "      <td>San Francisco-Oakland-Hayward, CA</td>\n",
       "      <td>Mozilla/5.0 (Windows NT 5.1; rv:31.0) Gecko/20...</td>\n",
       "    </tr>\n",
       "    <tr>\n",
       "      <th>1</th>\n",
       "      <td>369367187457</td>\n",
       "      <td>2018-11-21</td>\n",
       "      <td>97</td>\n",
       "      <td>paid</td>\n",
       "      <td>SOOUGRM12A58A795E1</td>\n",
       "      <td>AROWJKL1187B9B4B4B</td>\n",
       "      <td>797</td>\n",
       "      <td>Lansing-East Lansing, MI</td>\n",
       "      <td>\"Mozilla/5.0 (X11; Linux x86_64) AppleWebKit/5...</td>\n",
       "    </tr>\n",
       "    <tr>\n",
       "      <th>2</th>\n",
       "      <td>369367187458</td>\n",
       "      <td>2018-11-04</td>\n",
       "      <td>44</td>\n",
       "      <td>paid</td>\n",
       "      <td>SONCWGI12A8C1393C4</td>\n",
       "      <td>ARDGAO91187B989156</td>\n",
       "      <td>196</td>\n",
       "      <td>Waterloo-Cedar Falls, IA</td>\n",
       "      <td>Mozilla/5.0 (Macintosh; Intel Mac OS X 10.9; r...</td>\n",
       "    </tr>\n",
       "  </tbody>\n",
       "</table>\n",
       "</div>"
      ],
      "text/plain": [
       "    songplay_id  start_time user_id level             song_id  \\\n",
       "0  369367187456  2018-11-26      49  paid  SOWVYWK12A8C14141F   \n",
       "1  369367187457  2018-11-21      97  paid  SOOUGRM12A58A795E1   \n",
       "2  369367187458  2018-11-04      44  paid  SONCWGI12A8C1393C4   \n",
       "\n",
       "            artist_id  session_id                           location  \\\n",
       "0  ARX395D1187FB41D91         959  San Francisco-Oakland-Hayward, CA   \n",
       "1  AROWJKL1187B9B4B4B         797           Lansing-East Lansing, MI   \n",
       "2  ARDGAO91187B989156         196           Waterloo-Cedar Falls, IA   \n",
       "\n",
       "                                          user_agent  \n",
       "0  Mozilla/5.0 (Windows NT 5.1; rv:31.0) Gecko/20...  \n",
       "1  \"Mozilla/5.0 (X11; Linux x86_64) AppleWebKit/5...  \n",
       "2  Mozilla/5.0 (Macintosh; Intel Mac OS X 10.9; r...  "
      ]
     },
     "execution_count": 6,
     "metadata": {},
     "output_type": "execute_result"
    }
   ],
   "source": [
    "df_songplays = spark.read.parquet(os.path.join(output_data, 'songplays/year=*/month=*/*.parquet'))\n",
    "df_songplays.limit(3).toPandas()"
   ]
  },
  {
   "cell_type": "code",
   "execution_count": 7,
   "metadata": {
    "editable": true
   },
   "outputs": [
    {
     "data": {
      "text/html": [
       "<div>\n",
       "<style scoped>\n",
       "    .dataframe tbody tr th:only-of-type {\n",
       "        vertical-align: middle;\n",
       "    }\n",
       "\n",
       "    .dataframe tbody tr th {\n",
       "        vertical-align: top;\n",
       "    }\n",
       "\n",
       "    .dataframe thead th {\n",
       "        text-align: right;\n",
       "    }\n",
       "</style>\n",
       "<table border=\"1\" class=\"dataframe\">\n",
       "  <thead>\n",
       "    <tr style=\"text-align: right;\">\n",
       "      <th></th>\n",
       "      <th>artist_id</th>\n",
       "      <th>artist_name</th>\n",
       "      <th>artist_location</th>\n",
       "      <th>artist_latitude</th>\n",
       "      <th>artist_longitude</th>\n",
       "    </tr>\n",
       "  </thead>\n",
       "  <tbody>\n",
       "    <tr>\n",
       "      <th>0</th>\n",
       "      <td>ARIDEBJ1187B9A3754</td>\n",
       "      <td>Rolando Villazon/Evelino Pidò/Orchestre Philha...</td>\n",
       "      <td></td>\n",
       "      <td>NaN</td>\n",
       "      <td>NaN</td>\n",
       "    </tr>\n",
       "    <tr>\n",
       "      <th>1</th>\n",
       "      <td>ARIBQJ21187FB48B54</td>\n",
       "      <td>Alban Berg Quartett</td>\n",
       "      <td></td>\n",
       "      <td>NaN</td>\n",
       "      <td>NaN</td>\n",
       "    </tr>\n",
       "    <tr>\n",
       "      <th>2</th>\n",
       "      <td>AR1591T1187B9A01CD</td>\n",
       "      <td>The Dream Syndicate</td>\n",
       "      <td>Los Angeles, CA</td>\n",
       "      <td>34.05349</td>\n",
       "      <td>-118.24532</td>\n",
       "    </tr>\n",
       "  </tbody>\n",
       "</table>\n",
       "</div>"
      ],
      "text/plain": [
       "            artist_id                                        artist_name  \\\n",
       "0  ARIDEBJ1187B9A3754  Rolando Villazon/Evelino Pidò/Orchestre Philha...   \n",
       "1  ARIBQJ21187FB48B54                                Alban Berg Quartett   \n",
       "2  AR1591T1187B9A01CD                                The Dream Syndicate   \n",
       "\n",
       "   artist_location  artist_latitude  artist_longitude  \n",
       "0                               NaN               NaN  \n",
       "1                               NaN               NaN  \n",
       "2  Los Angeles, CA         34.05349        -118.24532  "
      ]
     },
     "execution_count": 7,
     "metadata": {},
     "output_type": "execute_result"
    }
   ],
   "source": [
    "df_artists = spark.read.parquet(os.path.join(output_data, 'artists/'))\n",
    "df_artists.limit(3).toPandas()"
   ]
  },
  {
   "cell_type": "code",
   "execution_count": 17,
   "metadata": {
    "editable": true
   },
   "outputs": [
    {
     "data": {
      "text/html": [
       "<div>\n",
       "<style scoped>\n",
       "    .dataframe tbody tr th:only-of-type {\n",
       "        vertical-align: middle;\n",
       "    }\n",
       "\n",
       "    .dataframe tbody tr th {\n",
       "        vertical-align: top;\n",
       "    }\n",
       "\n",
       "    .dataframe thead th {\n",
       "        text-align: right;\n",
       "    }\n",
       "</style>\n",
       "<table border=\"1\" class=\"dataframe\">\n",
       "  <thead>\n",
       "    <tr style=\"text-align: right;\">\n",
       "      <th></th>\n",
       "      <th>song_id</th>\n",
       "      <th>title</th>\n",
       "      <th>artist_id</th>\n",
       "      <th>year</th>\n",
       "      <th>duration</th>\n",
       "      <th>_year</th>\n",
       "      <th>_artist_id</th>\n",
       "    </tr>\n",
       "  </thead>\n",
       "  <tbody>\n",
       "    <tr>\n",
       "      <th>0</th>\n",
       "      <td>SOROAMT12A8C13C6D0</td>\n",
       "      <td>Me gustan mas los perros que los hombres (con ...</td>\n",
       "      <td>ARWUDTF1187B9AA096</td>\n",
       "      <td>2008</td>\n",
       "      <td>101.85098</td>\n",
       "      <td>2008</td>\n",
       "      <td>ARWUDTF1187B9AA096</td>\n",
       "    </tr>\n",
       "    <tr>\n",
       "      <th>1</th>\n",
       "      <td>SOVBRVG12A8C13DDCE</td>\n",
       "      <td>Millions starved and we became skinnier and sk...</td>\n",
       "      <td>ARYOIZG1187FB41E30</td>\n",
       "      <td>2006</td>\n",
       "      <td>594.75546</td>\n",
       "      <td>2006</td>\n",
       "      <td>ARYOIZG1187FB41E30</td>\n",
       "    </tr>\n",
       "    <tr>\n",
       "      <th>2</th>\n",
       "      <td>SOTVNYJ12A8C13A6A7</td>\n",
       "      <td>Dogghouse In Your Mouth (feat. King Lou_ Kokan...</td>\n",
       "      <td>ARJDBIN1187B9ABFD1</td>\n",
       "      <td>0</td>\n",
       "      <td>403.40853</td>\n",
       "      <td>0</td>\n",
       "      <td>ARJDBIN1187B9ABFD1</td>\n",
       "    </tr>\n",
       "  </tbody>\n",
       "</table>\n",
       "</div>"
      ],
      "text/plain": [
       "              song_id                                              title  \\\n",
       "0  SOROAMT12A8C13C6D0  Me gustan mas los perros que los hombres (con ...   \n",
       "1  SOVBRVG12A8C13DDCE  Millions starved and we became skinnier and sk...   \n",
       "2  SOTVNYJ12A8C13A6A7  Dogghouse In Your Mouth (feat. King Lou_ Kokan...   \n",
       "\n",
       "            artist_id  year   duration  _year          _artist_id  \n",
       "0  ARWUDTF1187B9AA096  2008  101.85098   2008  ARWUDTF1187B9AA096  \n",
       "1  ARYOIZG1187FB41E30  2006  594.75546   2006  ARYOIZG1187FB41E30  \n",
       "2  ARJDBIN1187B9ABFD1     0  403.40853      0  ARJDBIN1187B9ABFD1  "
      ]
     },
     "execution_count": 17,
     "metadata": {},
     "output_type": "execute_result"
    }
   ],
   "source": [
    "df_songs = spark.read.parquet(os.path.join(output_data, 'songs/'))\n",
    "df_songs.limit(3).toPandas()"
   ]
  },
  {
   "cell_type": "code",
   "execution_count": 15,
   "metadata": {
    "editable": true
   },
   "outputs": [
    {
     "data": {
      "text/html": [
       "<div>\n",
       "<style scoped>\n",
       "    .dataframe tbody tr th:only-of-type {\n",
       "        vertical-align: middle;\n",
       "    }\n",
       "\n",
       "    .dataframe tbody tr th {\n",
       "        vertical-align: top;\n",
       "    }\n",
       "\n",
       "    .dataframe thead th {\n",
       "        text-align: right;\n",
       "    }\n",
       "</style>\n",
       "<table border=\"1\" class=\"dataframe\">\n",
       "  <thead>\n",
       "    <tr style=\"text-align: right;\">\n",
       "      <th></th>\n",
       "      <th>start_time</th>\n",
       "      <th>hour</th>\n",
       "      <th>day</th>\n",
       "      <th>week</th>\n",
       "      <th>weekday</th>\n",
       "      <th>year</th>\n",
       "      <th>month</th>\n",
       "    </tr>\n",
       "  </thead>\n",
       "  <tbody>\n",
       "    <tr>\n",
       "      <th>0</th>\n",
       "      <td>2018-11-03</td>\n",
       "      <td>0</td>\n",
       "      <td>3</td>\n",
       "      <td>44</td>\n",
       "      <td>6</td>\n",
       "      <td>2018</td>\n",
       "      <td>11</td>\n",
       "    </tr>\n",
       "    <tr>\n",
       "      <th>1</th>\n",
       "      <td>2018-11-24</td>\n",
       "      <td>0</td>\n",
       "      <td>24</td>\n",
       "      <td>47</td>\n",
       "      <td>6</td>\n",
       "      <td>2018</td>\n",
       "      <td>11</td>\n",
       "    </tr>\n",
       "    <tr>\n",
       "      <th>2</th>\n",
       "      <td>2018-11-30</td>\n",
       "      <td>0</td>\n",
       "      <td>30</td>\n",
       "      <td>48</td>\n",
       "      <td>5</td>\n",
       "      <td>2018</td>\n",
       "      <td>11</td>\n",
       "    </tr>\n",
       "  </tbody>\n",
       "</table>\n",
       "</div>"
      ],
      "text/plain": [
       "   start_time  hour  day  week weekday  year  month\n",
       "0  2018-11-03     0    3    44       6  2018     11\n",
       "1  2018-11-24     0   24    47       6  2018     11\n",
       "2  2018-11-30     0   30    48       5  2018     11"
      ]
     },
     "execution_count": 15,
     "metadata": {},
     "output_type": "execute_result"
    }
   ],
   "source": [
    "df_time = spark.read.parquet(os.path.join(output_data, 'time/'))\n",
    "df_time.limit(3).toPandas()"
   ]
  },
  {
   "cell_type": "code",
   "execution_count": 16,
   "metadata": {
    "editable": true
   },
   "outputs": [
    {
     "data": {
      "text/html": [
       "<div>\n",
       "<style scoped>\n",
       "    .dataframe tbody tr th:only-of-type {\n",
       "        vertical-align: middle;\n",
       "    }\n",
       "\n",
       "    .dataframe tbody tr th {\n",
       "        vertical-align: top;\n",
       "    }\n",
       "\n",
       "    .dataframe thead th {\n",
       "        text-align: right;\n",
       "    }\n",
       "</style>\n",
       "<table border=\"1\" class=\"dataframe\">\n",
       "  <thead>\n",
       "    <tr style=\"text-align: right;\">\n",
       "      <th></th>\n",
       "      <th>userId</th>\n",
       "      <th>firstName</th>\n",
       "      <th>lastName</th>\n",
       "      <th>gender</th>\n",
       "      <th>level</th>\n",
       "    </tr>\n",
       "  </thead>\n",
       "  <tbody>\n",
       "    <tr>\n",
       "      <th>0</th>\n",
       "      <td>88</td>\n",
       "      <td>Mohammad</td>\n",
       "      <td>Rodriguez</td>\n",
       "      <td>M</td>\n",
       "      <td>free</td>\n",
       "    </tr>\n",
       "    <tr>\n",
       "      <th>1</th>\n",
       "      <td>75</td>\n",
       "      <td>Joseph</td>\n",
       "      <td>Gutierrez</td>\n",
       "      <td>M</td>\n",
       "      <td>free</td>\n",
       "    </tr>\n",
       "    <tr>\n",
       "      <th>2</th>\n",
       "      <td>53</td>\n",
       "      <td>Celeste</td>\n",
       "      <td>Williams</td>\n",
       "      <td>F</td>\n",
       "      <td>free</td>\n",
       "    </tr>\n",
       "  </tbody>\n",
       "</table>\n",
       "</div>"
      ],
      "text/plain": [
       "  userId firstName   lastName gender level\n",
       "0     88  Mohammad  Rodriguez      M  free\n",
       "1     75    Joseph  Gutierrez      M  free\n",
       "2     53   Celeste   Williams      F  free"
      ]
     },
     "execution_count": 16,
     "metadata": {},
     "output_type": "execute_result"
    }
   ],
   "source": [
    "df_users = spark.read.parquet(os.path.join(output_data, 'users/'))\n",
    "df_users.limit(3).toPandas()"
   ]
  },
  {
   "cell_type": "code",
   "execution_count": null,
   "metadata": {
    "editable": true
   },
   "outputs": [],
   "source": []
  }
 ],
 "metadata": {
  "kernelspec": {
   "display_name": "Python 3",
   "language": "python",
   "name": "python3"
  },
  "language_info": {
   "codemirror_mode": {
    "name": "ipython",
    "version": 3
   },
   "file_extension": ".py",
   "mimetype": "text/x-python",
   "name": "python",
   "nbconvert_exporter": "python",
   "pygments_lexer": "ipython3",
   "version": "3.6.3"
  }
 },
 "nbformat": 4,
 "nbformat_minor": 4
}
